{
  "cells": [
    {
      "cell_type": "code",
      "execution_count": null,
      "metadata": {
        "id": "CbCbS0imJVZY"
      },
      "outputs": [],
      "source": [
        "from google.colab import drive\n",
        "import requests\n",
        "import os\n",
        "import zipfile\n",
        "import json\n",
        "import numpy as np\n",
        "from tqdm import tqdm\n",
        "import pandas as pd\n",
        "from imutils import paths\n",
        "from tabulate import tabulate\n",
        "import zipfile\n",
        "from matplotlib import pyplot as plt"
      ]
    },
    {
      "cell_type": "code",
      "execution_count": null,
      "metadata": {
        "colab": {
          "base_uri": "https://localhost:8080/"
        },
        "id": "_cB2kvu2Ji3l",
        "outputId": "776145ae-73c6-4170-a239-4900f8a2b6c7"
      },
      "outputs": [
        {
          "name": "stdout",
          "output_type": "stream",
          "text": [
            "Drive already mounted at /content/drive; to attempt to forcibly remount, call drive.mount(\"/content/drive\", force_remount=True).\n"
          ]
        }
      ],
      "source": [
        "# mount Google Drive\n",
        "drive.mount('/content/drive')"
      ]
    },
    {
      "cell_type": "code",
      "execution_count": null,
      "metadata": {
        "colab": {
          "base_uri": "https://localhost:8080/"
        },
        "id": "h6DfvEalJrXW",
        "outputId": "50d31432-436d-409b-b02f-f0500951ebcd"
      },
      "outputs": [
        {
          "name": "stdout",
          "output_type": "stream",
          "text": [
            "/content/drive/.shortcut-targets-by-id/1LQRkg9gduygZjO84k_knGQGpy1qEPTp6/Colab Notebooks\n"
          ]
        }
      ],
      "source": [
        "# change directory to the Colab Notebooks folder with link to drive of lars\n",
        "%cd /content/drive/My Drive/MMDL2024/Colab Notebooks/"
      ]
    },
    {
      "cell_type": "code",
      "execution_count": null,
      "metadata": {
        "colab": {
          "base_uri": "https://localhost:8080/"
        },
        "id": "53aJD8UWJs_m",
        "outputId": "744a7a2f-b069-435b-bd57-570bbd267c40"
      },
      "outputs": [
        {
          "name": "stdout",
          "output_type": "stream",
          "text": [
            "dict_keys(['image', 'answer', 'data_source', 'question', 'image_id', 'question_id'])\n",
            "dict_keys(['image', 'answer', 'data_source', 'question', 'image_id', 'question_id', 'issimple'])\n"
          ]
        }
      ],
      "source": [
        "# load json\n",
        "train_file = open(\"tallyqa_train.json\")\n",
        "test_file = open(\"tallyqa_test.json\")\n",
        "train_data = np.array(json.load(train_file))\n",
        "test_data = np.array(json.load(test_file))\n",
        "train_file.close()\n",
        "test_file.close()\n",
        "\n",
        "# test file has one additional key: \"issimple\"\n",
        "# in the following this key is ignored\n",
        "print(train_data[0].keys())\n",
        "print(test_data[0].keys())\n",
        "\n",
        "\n",
        "# concatenate data\n",
        "data_dict = np.concatenate((train_data, test_data), axis=0)\n",
        "# get dict keys\n",
        "data_keys = data_dict[0].keys()\n",
        "# transform dicts to list and get data array\n",
        "df = pd.json_normalize(data_dict)\n",
        "data = df.to_numpy()[:, :6]"
      ]
    },
    {
      "cell_type": "code",
      "execution_count": null,
      "metadata": {
        "colab": {
          "base_uri": "https://localhost:8080/"
        },
        "id": "OHqcXy6uKv5s",
        "outputId": "e7453ce0-6b15-4736-92a5-53933e62b7a8"
      },
      "outputs": [
        {
          "name": "stdout",
          "output_type": "stream",
          "text": [
            "---------  ------\n",
            "questions  287907\n",
            "images     159432\n",
            "---------  ------\n",
            "----------  -----\n",
            "coco_train  66943\n",
            "coco_val    32633\n",
            "vg_100      35270\n",
            "vg_100_2    24586\n",
            "unknown         0\n",
            "----------  -----\n"
          ]
        }
      ],
      "source": [
        "def file_split_by_name(data):\n",
        "  coco_train = []\n",
        "  coco_val = []\n",
        "  vg_100 = []\n",
        "  vg_100_2 = []\n",
        "  unknown = []\n",
        "  for fname in data:\n",
        "    foldern, imagen = fname.split(\"/\")\n",
        "    if foldern == \"train2014\":\n",
        "      coco_train.append(fname)\n",
        "    elif foldern == \"val2014\":\n",
        "      coco_val.append(fname)\n",
        "    elif foldern == \"VG_100K\":\n",
        "      vg_100.append(fname)\n",
        "    elif foldern == \"VG_100K_2\":\n",
        "      vg_100_2.append(fname)\n",
        "    else:\n",
        "      unknown.append(fname)\n",
        "\n",
        "  table = [[\"coco_train\", len(coco_train)], [\"coco_val\", len(coco_val)], [\"vg_100\", len(vg_100)], [\"vg_100_2\", len(vg_100_2)], [\"unknown\", len(unknown)]]\n",
        "  print(tabulate(table))\n",
        "  return coco_train, coco_val, vg_100, vg_100_2\n",
        "\n",
        "# extract all relevant image_names from data\n",
        "data_image_names = np.unique(data[:, 0])\n",
        "np.random.shuffle(data_image_names)\n",
        "print(tabulate([[\"questions\", len(data)], [\"images\", len(data_image_names)]]))\n",
        "# get all images names wrt. the datasets which are used in tallyqa\n",
        "coco_train_files, coco_val_files, vg_100k_files, vg_100k_2_files = file_split_by_name(data_image_names)"
      ]
    },
    {
      "cell_type": "code",
      "execution_count": null,
      "metadata": {
        "colab": {
          "base_uri": "https://localhost:8080/"
        },
        "id": "Bi0f1zMnNlA5",
        "outputId": "48c2462a-15f7-4c69-cdff-1eb9ada1b1cf"
      },
      "outputs": [
        {
          "name": "stdout",
          "output_type": "stream",
          "text": [
            "Images found in drive: \n",
            "----------  -----\n",
            "coco_train  82783\n",
            "coco_val    40504\n",
            "vg_100      64346\n",
            "vg_100_2    43903\n",
            "----------  -----\n"
          ]
        }
      ],
      "source": [
        "train2014 = list(paths.list_files(\"coco/train2014/\"))\n",
        "val2014 = list(paths.list_files(\"coco/val2014/val2014/\"))\n",
        "vg_100k = list(paths.list_files(\"visual_genome/VG_100K/\"))\n",
        "vg_100k_2 = list(paths.list_files(\"visual_genome/VG_100K_2\"))\n",
        "table = [[\"coco_train\", len(train2014)], [\"coco_val\", len(val2014)], [\"vg_100\", len(vg_100k)], [\"vg_100_2\", len(vg_100k_2)]]\n",
        "print(\"Images found in drive: \")\n",
        "print(tabulate(table))"
      ]
    },
    {
      "cell_type": "code",
      "execution_count": null,
      "metadata": {
        "colab": {
          "base_uri": "https://localhost:8080/"
        },
        "id": "Qnrl_SAK8wHI",
        "outputId": "8d9b6c0e-8423-4cc6-86f0-1ae3c67187bb"
      },
      "outputs": [
        {
          "name": "stderr",
          "output_type": "stream",
          "text": [
            "100%|██████████| 66943/66943 [02:05<00:00, 533.27it/s]\n"
          ]
        },
        {
          "name": "stdout",
          "output_type": "stream",
          "text": [
            "All Images found!\n"
          ]
        },
        {
          "name": "stderr",
          "output_type": "stream",
          "text": [
            "100%|██████████| 32633/32633 [00:29<00:00, 1107.92it/s]\n"
          ]
        },
        {
          "name": "stdout",
          "output_type": "stream",
          "text": [
            "All Images found!\n"
          ]
        },
        {
          "name": "stderr",
          "output_type": "stream",
          "text": [
            "100%|██████████| 35270/35270 [00:39<00:00, 883.81it/s]\n"
          ]
        },
        {
          "name": "stdout",
          "output_type": "stream",
          "text": [
            "All Images found!\n"
          ]
        },
        {
          "name": "stderr",
          "output_type": "stream",
          "text": [
            "100%|██████████| 24586/24586 [00:13<00:00, 1804.54it/s]"
          ]
        },
        {
          "name": "stdout",
          "output_type": "stream",
          "text": [
            "All Images found!\n"
          ]
        },
        {
          "name": "stderr",
          "output_type": "stream",
          "text": [
            "\n"
          ]
        }
      ],
      "source": [
        "def search_images(data, drive_data, add_path):\n",
        "    not_found = 0\n",
        "    for image_path in tqdm(data):\n",
        "      image_path = add_path + image_path\n",
        "      if image_path not in drive_data:\n",
        "        not_found += 1\n",
        "        print(image_path)\n",
        "    if not_found == 0:\n",
        "      print(\"All Images found!\")\n",
        "    else:\n",
        "      print(str(not_found) + \" images not found!\")\n",
        "\n",
        "search_images(coco_train_files, train2014, \"coco/\")\n",
        "search_images(coco_val_files, val2014, \"coco/val2014/\")\n",
        "search_images(vg_100k_files, vg_100k, \"visual_genome/\")\n",
        "search_images(vg_100k_2_files, vg_100k_2, \"visual_genome/\")"
      ]
    },
    {
      "cell_type": "code",
      "execution_count": null,
      "metadata": {
        "id": "fGiUXf2Fbqhl"
      },
      "outputs": [],
      "source": [
        "# extract every question with answer greater then 4\n",
        "np.random.seed(9929395)\n",
        "gcd = data[:, 1] >= 6\n",
        "greater_count_data = data[gcd]\n",
        "lesser_count_data = []\n",
        "\n",
        "for i in range(6):\n",
        "  i_data = data[data[:, 1] == i]\n",
        "  np.random.shuffle(i_data)\n",
        "  i_data = i_data[:100 + int(np.exp(0.2*i)*2000)]\n",
        "  if i == 0:\n",
        "    lesser_count_data = i_data\n",
        "  else:\n",
        "    lesser_count_data = np.concatenate((lesser_count_data, i_data), axis=0)\n",
        "\n",
        "np.random.shuffle(lesser_count_data)\n",
        "# create new data array with all answers greater then 4 and 20.000 answers lower then 4\n",
        "new_data = np.concatenate((greater_count_data, lesser_count_data), axis=0)\n",
        "# train, val, test split (60, 20, 20)\n",
        "np.random.shuffle(new_data)"
      ]
    },
    {
      "cell_type": "code",
      "execution_count": null,
      "metadata": {
        "id": "neD8Tvtw5ckm"
      },
      "outputs": [],
      "source": [
        "max_len = len(new_data)\n",
        "b1 = int(max_len * 0.6)\n",
        "b2 = int(max_len * 0.8)\n",
        "new_train_data = new_data[:b1]\n",
        "new_val_data = new_data[b1:b2]\n",
        "new_test_data = new_data[b2:]"
      ]
    },
    {
      "cell_type": "code",
      "execution_count": null,
      "metadata": {
        "colab": {
          "base_uri": "https://localhost:8080/"
        },
        "id": "A_FJHqKyF071",
        "outputId": "c7412399-f2b4-4692-d73f-a944f19d48c6"
      },
      "outputs": [
        {
          "name": "stdout",
          "output_type": "stream",
          "text": [
            "[0 1 2 3 4 5 6 7 8 9 10 11 12 13 14 15]\n",
            "[63261 75604 77246 30268 16887  8306  5550  3122  2638  1521  1188   763\n",
            "   749   376   326   102]\n"
          ]
        }
      ],
      "source": [
        "unique, counts = np.unique(data[:, 1], return_counts=True)\n",
        "print(unique)\n",
        "print(counts)"
      ]
    },
    {
      "cell_type": "code",
      "execution_count": null,
      "metadata": {
        "colab": {
          "base_uri": "https://localhost:8080/",
          "height": 499
        },
        "id": "8YiUX4LxxT81",
        "outputId": "a1513573-5823-4e77-9f34-2755696dfadc"
      },
      "outputs": [
        {
          "name": "stdout",
          "output_type": "stream",
          "text": [
            "[0 1 2 3 4 5 6 7 8 9 10 11 12 13 14 15]\n",
            "[2100 2542 3083 3744 4551 5536 5550 3122 2638 1521 1188  763  749  376\n",
            "  326  102]\n"
          ]
        },
        {
          "data": {
            "text/plain": [
              "[<matplotlib.lines.Line2D at 0x7d0328f016c0>]"
            ]
          },
          "execution_count": 64,
          "metadata": {},
          "output_type": "execute_result"
        },
        {
          "data": {
            "image/png": "[encoded data removed]",
            "text/plain": [
              "<Figure size 640x480 with 1 Axes>"
            ]
          },
          "metadata": {},
          "output_type": "display_data"
        }
      ],
      "source": [
        "unique, counts = np.unique(new_data[:, 1], return_counts=True)\n",
        "print(unique)\n",
        "print(counts)\n",
        "len(new_data)\n",
        "plt.plot(unique, counts)"
      ]
    },
    {
      "cell_type": "code",
      "execution_count": null,
      "metadata": {
        "id": "rmtQ55QykNgI"
      },
      "outputs": [],
      "source": [
        "def create_json(jdata, file_name):\n",
        "  # create new json file for new_data\n",
        "  file = open(file_name, \"w\")\n",
        "  json_data = []\n",
        "\n",
        "  for line in tqdm(jdata):\n",
        "    tmp_dict = dict()\n",
        "    if len(line[3]) != 0:\n",
        "      for i, key in enumerate(data_keys):\n",
        "          tmp_dict[key] = line[i]\n",
        "    else:\n",
        "      continue\n",
        "    json_data.append(tmp_dict)\n",
        "\n",
        "  json.dump(json_data, file)"
      ]
    },
    {
      "cell_type": "code",
      "execution_count": null,
      "metadata": {
        "colab": {
          "base_uri": "https://localhost:8080/"
        },
        "id": "NTBDmU31hIkQ",
        "outputId": "3d68b5cf-f884-4d04-8d23-a87d568bebe7"
      },
      "outputs": [
        {
          "name": "stderr",
          "output_type": "stream",
          "text": [
            "100%|██████████| 22734/22734 [00:00<00:00, 195649.90it/s]\n",
            "100%|██████████| 7578/7578 [00:00<00:00, 175390.47it/s]\n",
            "100%|██████████| 7579/7579 [00:00<00:00, 187994.95it/s]\n"
          ]
        }
      ],
      "source": [
        "create_json(new_train_data, \"HighCountVQA_train.json\")\n",
        "create_json(new_val_data, \"HighCountVQA_val.json\")\n",
        "create_json(new_test_data, \"HighCountVQA_test.json\")"
      ]
    },
    {
      "cell_type": "code",
      "execution_count": null,
      "metadata": {
        "colab": {
          "base_uri": "https://localhost:8080/"
        },
        "id": "OiTI-TZ5ASdG",
        "outputId": "12d7a934-1141-4760-fd3e-d265effd8452"
      },
      "outputs": [
        {
          "name": "stderr",
          "output_type": "stream",
          "text": [
            "100%|██████████| 37891/37891 [00:00<00:00, 249300.96it/s]\n"
          ]
        }
      ],
      "source": [
        "create_json(new_data, \"HighCountVQA_combined.json\")"
      ]
    },
    {
      "cell_type": "code",
      "execution_count": null,
      "metadata": {
        "colab": {
          "base_uri": "https://localhost:8080/"
        },
        "id": "Ltmhq_CDG6NC",
        "outputId": "68b1df1c-58e7-4515-f557-8add829e8aec"
      },
      "outputs": [
        {
          "name": "stderr",
          "output_type": "stream",
          "text": [
            "100%|██████████| 287907/287907 [00:00<00:00, 412956.08it/s]\n"
          ]
        }
      ],
      "source": [
        "create_json(data, \"HighCountVQA.json\")"
      ]
    }
  ],
  "metadata": {
    "colab": {
      "provenance": []
    },
    "kernelspec": {
      "display_name": "Python 3",
      "name": "python3"
    },
    "language_info": {
      "name": "python"
    }
  },
  "nbformat": 4,
  "nbformat_minor": 0
}
